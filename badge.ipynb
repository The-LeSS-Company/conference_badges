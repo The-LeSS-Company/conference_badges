{
 "cells": [
  {
   "cell_type": "code",
   "execution_count": 1,
   "metadata": {},
   "outputs": [
    {
     "ename": "NameError",
     "evalue": "name 'fpdf' is not defined",
     "output_type": "error",
     "traceback": [
      "\u001b[0;31m---------------------------------------------------------------------------\u001b[0m",
      "\u001b[0;31mNameError\u001b[0m                                 Traceback (most recent call last)",
      "\u001b[0;32m<ipython-input-1-ea5c04004b31>\u001b[0m in \u001b[0;36m<module>\u001b[0;34m()\u001b[0m\n\u001b[1;32m      1\u001b[0m \u001b[0;32mimport\u001b[0m \u001b[0mcsv\u001b[0m\u001b[0;34m\u001b[0m\u001b[0m\n\u001b[0;32m----> 2\u001b[0;31m \u001b[0mpdf\u001b[0m \u001b[0;34m=\u001b[0m \u001b[0mfpdf\u001b[0m\u001b[0;34m.\u001b[0m\u001b[0mFPDF\u001b[0m\u001b[0;34m(\u001b[0m\u001b[0mformat\u001b[0m\u001b[0;34m=\u001b[0m\u001b[0;34m'letter'\u001b[0m\u001b[0;34m)\u001b[0m\u001b[0;34m\u001b[0m\u001b[0m\n\u001b[0m\u001b[1;32m      3\u001b[0m \u001b[0mpdf\u001b[0m\u001b[0;34m.\u001b[0m\u001b[0madd_font\u001b[0m\u001b[0;34m(\u001b[0m\u001b[0;34m'Roboto'\u001b[0m\u001b[0;34m,\u001b[0m \u001b[0;34m''\u001b[0m\u001b[0;34m,\u001b[0m \u001b[0;34m'Roboto-Regular.ttf'\u001b[0m\u001b[0;34m,\u001b[0m \u001b[0muni\u001b[0m\u001b[0;34m=\u001b[0m\u001b[0;32mTrue\u001b[0m\u001b[0;34m)\u001b[0m\u001b[0;34m\u001b[0m\u001b[0m\n\u001b[1;32m      4\u001b[0m \u001b[0;34m\u001b[0m\u001b[0m\n\u001b[1;32m      5\u001b[0m \u001b[0;32mwith\u001b[0m \u001b[0mopen\u001b[0m\u001b[0;34m(\u001b[0m\u001b[0;34m'<yours>.csv'\u001b[0m\u001b[0;34m)\u001b[0m \u001b[0;32mas\u001b[0m \u001b[0mcsvfile\u001b[0m\u001b[0;34m:\u001b[0m\u001b[0;34m\u001b[0m\u001b[0m\n",
      "\u001b[0;31mNameError\u001b[0m: name 'fpdf' is not defined"
     ]
    }
   ],
   "source": [
    "import csv\n",
    "pdf = fpdf.FPDF(format='letter')\n",
    "pdf.add_font('Roboto', '', 'Roboto-Regular.ttf', uni=True)\n",
    "\n",
    "with open('<yours>.csv') as csvfile:\n",
    "    spamreader = csv.reader(csvfile)\n",
    "    for row in spamreader:\n",
    "        pdf.add_page()\n",
    "        pdf.set_font(\"Roboto\", size=18)\n",
    "        pdf.cell(94, h = 54, txt = '', border = 1, ln = 0, \n",
    "                  align = '', fill = False, link = '')\n",
    "        pdf.set_x(0)\n",
    "        pdf.set_y(20)\n",
    "        pdf.cell(94, 10, txt=row[2] + ' ' + row[3], align=\"C\")\n",
    "        pdf.image('LeSS-logo.png', 47, y = 48, w = 20)\n",
    "        pdf.set_x(0)\n",
    "        pdf.set_y(33)\n",
    "        pdf.set_font(\"Roboto\", size=11)\n",
    "        pdf.cell(94, 10, txt=row[12], align=\"C\")\n",
    "        pdf.set_x(0)\n",
    "        pdf.set_y(38)\n",
    "        pdf.set_font(\"Roboto\", size=11)\n",
    "        pdf.cell(94, 10, txt=row[6], align=\"C\")\n",
    "        print(', '.join(row))\n",
    "        \n",
    "pdf.output(\"badges.pdf\")"
   ]
  },
  {
   "cell_type": "code",
   "execution_count": null,
   "metadata": {
    "collapsed": true
   },
   "outputs": [],
   "source": []
  }
 ],
 "metadata": {
  "kernelspec": {
   "display_name": "Python 3",
   "language": "python",
   "name": "python3"
  },
  "language_info": {
   "codemirror_mode": {
    "name": "ipython",
    "version": 3
   },
   "file_extension": ".py",
   "mimetype": "text/x-python",
   "name": "python",
   "nbconvert_exporter": "python",
   "pygments_lexer": "ipython3",
   "version": "3.6.0"
  }
 },
 "nbformat": 4,
 "nbformat_minor": 2
}
